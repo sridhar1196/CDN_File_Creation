{
 "cells": [
  {
   "cell_type": "code",
   "execution_count": 29,
   "metadata": {
    "collapsed": true
   },
   "outputs": [],
   "source": [
    "from netCDF4 import Dataset\n",
    "import os \n",
    "import numpy as np"
   ]
  },
  {
   "cell_type": "code",
   "execution_count": 33,
   "metadata": {},
   "outputs": [
    {
     "name": "stdout",
     "output_type": "stream",
     "text": [
      "C:\\Users\\sridh\\Downloads\\CDF\\input\n",
      "[]\n",
      "['sgpmetE13.b1.20181001.000000.cdf', 'sgpmetE13.b1.20181002.000000.cdf', 'sgpmetE13.b1.20181003.000000.cdf', 'sgpmetE13.b1.20181004.000000.cdf', 'sgpmetE13.b1.20181005.000000.cdf', 'sgpmetE13.b1.20181006.000000.cdf', 'sgpmetE13.b1.20181007.000000.cdf', 'sgpmetE13.b1.20181008.000000.cdf', 'sgpmetE13.b1.20181009.000000.cdf']\n",
      "sgpmetavgE13.b1.20181001.000000.cdf\n",
      "26.3340003967\n",
      "97.9160003662\n",
      "sgpmetavgE13.b1.20181002.000000.cdf\n",
      "28.5300003052\n",
      "97.9300003052\n",
      "sgpmetavgE13.b1.20181003.000000.cdf\n",
      "28.8079994202\n",
      "97.6600036621\n",
      "sgpmetavgE13.b1.20181004.000000.cdf\n",
      "30.9939998627\n",
      "97.1959991455\n",
      "sgpmetavgE13.b1.20181005.000000.cdf\n",
      "16.6959999084\n",
      "97.7839996338\n",
      "sgpmetavgE13.b1.20181006.000000.cdf\n",
      "28.8759998322\n",
      "97.1299972534\n",
      "sgpmetavgE13.b1.20181007.000000.cdf\n",
      "13.0520000458\n",
      "97.9000015259\n",
      "sgpmetavgE13.b1.20181008.000000.cdf\n",
      "19.3859992981\n",
      "97.4740020752\n",
      "sgpmetavgE13.b1.20181009.000000.cdf\n",
      "19.1740001678\n",
      "97.3619995117\n"
     ]
    }
   ],
   "source": [
    "rootdir = \"C:\\\\Users\\\\sridh\\\\Downloads\\\\CDF\"  \n",
    "for subdirs, dirs, files in os.walk(rootdir + \"\\\\input\"):\n",
    "    for file in files:\n",
    "        print(file.replace(\"met\", \"metavg\"))\n",
    "        dataset = Dataset(subdirs+\"\\\\\" + file, 'r', format=\"NETCDF3_CLASSIC\")\n",
    "        size = dataset.variables['time'].shape[0] - 1\n",
    "        atmos_prr = []\n",
    "        temp_prr = []\n",
    "        time_prr = []\n",
    "        # directory path for saving file\n",
    "        output = Dataset(rootdir + \"\\\\output\\\\\" +file.replace(\"met\", \"metavg\"), 'w', format='NETCDF3_CLASSIC')\n",
    "        #Iterating over the input data to find the average of 5 min\n",
    "        for i in dataset.variables:\n",
    "            if (i == 'atmos_pressure'):\n",
    "                for x in range(0, size, 5):\n",
    "                    atmos_prr.append(sum(dataset.variables[i][x: x + 5].data)/5)\n",
    "            elif (i == 'temp_mean'):\n",
    "                for x in range(0, size, 5):\n",
    "                    temp_prr.append(sum(dataset.variables[i][x: x + 5].data)/5)\n",
    "            elif (i == 'time'):\n",
    "                sum_val = 0;\n",
    "                index = 0;\n",
    "                for x in range(0, size, 1):\n",
    "                    sum_val = sum_val + sum(dataset.variables['time'][x: x+1].data)\n",
    "                    if(x%5 == 0):\n",
    "                        time_prr.append(sum_val)\n",
    "        # Converting list to array\n",
    "        temp_prr = np.array(temp_prr)\n",
    "        time_prr = np.array(time_prr)\n",
    "        atmos_prr = np.array(atmos_prr)\n",
    "        # Creating dimension time similar to input file\n",
    "        time_dim = output.createDimension('time', None)\n",
    "        #Creating varaible for output file \n",
    "        atmospheric_pressure = output.createVariable('atmospheric_pressure', 'f4', 'time')\n",
    "        temp_mean = output.createVariable('mean_temperature', 'f4', 'time')\n",
    "        time = output.createVariable('time', 'f4', 'time')\n",
    "        # Saving attributes from input file to output file\n",
    "        temp_mean.setncatts({k: dataset.variables['temp_mean'].getncattr(k) for k in dataset.variables['temp_mean'].ncattrs()})\n",
    "        atmospheric_pressure.setncatts({k: dataset.variables['atmos_pressure'].getncattr(k) for k in dataset.variables['atmos_pressure'].ncattrs()})\n",
    "        time.setncatts({k: dataset.variables['time'].getncattr(k) for k in dataset.variables['time'].ncattrs()})\n",
    "        # Populating output variable\n",
    "        atmospheric_pressure[:] = np.array(atmos_prr)\n",
    "        temp_mean[:] = np.array(temp_prr)\n",
    "        time[:] = np.array(time_prr)\n",
    "        output.close()\n",
    "        dataset.close()"
   ]
  },
  {
   "cell_type": "code",
   "execution_count": null,
   "metadata": {
    "collapsed": true
   },
   "outputs": [],
   "source": [
    "from netCDF4 import Dataset\n",
    "import os \n",
    "import numpy as np\n",
    "output_path = \"C:\\\\Users\\\\sridh\\\\Downloads\\\\CDF\\\\output\"  \n",
    "def test1():\n",
    "    for subdirs, dirs, files in os.walk(output_path):\n",
    "        for file in files:\n",
    "            if(\"metavg\") not in file:\n",
    "                assert false\n",
    "            else:\n",
    "                dataset = Dataset(output_path+\"\\\\\" + file, 'r', format=\"NETCDF3_CLASSIC\")\n",
    "                if(file == sgpmetavgE13.b1.20181001.000000):\n",
    "                    for i in dataset.variables:\n",
    "                        if i not in ['atmospheric_pressure', 'mean_temperature', 'time']:\n",
    "                            asset false\n",
    "                        else:\n",
    "                            if i == 'atmospheric_pressure':\n",
    "                                assert dataset.variables['time'][0: 1].data  == [97.9160003662]\n",
    "\n",
    "def test2():\n",
    "    for subdirs, dirs, files in os.walk(output_path):\n",
    "        for file in files:\n",
    "            if(\"metavg\") not in file:\n",
    "                assert false\n",
    "            else:\n",
    "                dataset = Dataset(output_path+\"\\\\\" + file, 'r', format=\"NETCDF3_CLASSIC\")\n",
    "                if(file == sgpmetavgE13.b1.20181001.000000):\n",
    "                    for i in dataset.variables:\n",
    "                        if i not in ['atmospheric_pressure', 'mean_temperature', 'time']:\n",
    "                            asset false\n",
    "                        else:\n",
    "                            if i == 'mean_temperature':\n",
    "                                assert dataset.variables['time'][0: 1].data  == [26.3340003967]"
   ]
  }
 ],
 "metadata": {
  "kernelspec": {
   "display_name": "Python 3",
   "language": "python",
   "name": "python3"
  },
  "language_info": {
   "codemirror_mode": {
    "name": "ipython",
    "version": 3
   },
   "file_extension": ".py",
   "mimetype": "text/x-python",
   "name": "python",
   "nbconvert_exporter": "python",
   "pygments_lexer": "ipython3",
   "version": "3.6.3"
  }
 },
 "nbformat": 4,
 "nbformat_minor": 2
}
